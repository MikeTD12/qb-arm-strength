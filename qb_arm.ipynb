{
 "cells": [
  {
   "cell_type": "code",
   "execution_count": 15,
   "metadata": {
    "ExecuteTime": {
     "end_time": "2020-10-22T17:01:27.992378Z",
     "start_time": "2020-10-22T17:01:27.981389Z"
    }
   },
   "outputs": [],
   "source": [
    "import pandas as pd\n",
    "import numpy as np\n",
    "import matplotlib.pyplot as plt\n",
    "import plotly.express as px\n",
    "\n",
    "import streamlit as st\n",
    "from PIL import Image"
   ]
  },
  {
   "cell_type": "code",
   "execution_count": 16,
   "metadata": {
    "ExecuteTime": {
     "end_time": "2020-10-22T17:01:28.485396Z",
     "start_time": "2020-10-22T17:01:28.480082Z"
    }
   },
   "outputs": [],
   "source": [
    "pd.set_option('display.max_columns', None)"
   ]
  },
  {
   "cell_type": "code",
   "execution_count": null,
   "metadata": {
    "ExecuteTime": {
     "end_time": "2020-10-22T13:59:26.478565Z",
     "start_time": "2020-10-22T13:59:26.469891Z"
    }
   },
   "outputs": [],
   "source": [
    "'''week_csv = [\n",
    "    'week1.csv','week2.csv','week3.csv','week4.csv','week5.csv','week6.csv','week7.csv',\n",
    "    'week8.csv','week9.csv','week10.csv','week11.csv','week12.csv','week13.csv','week14.csv',\n",
    "    'week15.csv','week16.csv','week17.csv'\n",
    "]'''"
   ]
  },
  {
   "cell_type": "code",
   "execution_count": null,
   "metadata": {
    "ExecuteTime": {
     "end_time": "2020-10-22T13:59:26.488704Z",
     "start_time": "2020-10-22T13:59:26.480915Z"
    }
   },
   "outputs": [],
   "source": [
    "'''week = []\n",
    "for weeks in week_csv:\n",
    "    week.append(pd.read_csv(weeks))\n",
    "\n",
    "tracking = pd.concat(week, axis=0, ignore_index=True)'''"
   ]
  },
  {
   "cell_type": "code",
   "execution_count": 17,
   "metadata": {
    "ExecuteTime": {
     "end_time": "2020-10-22T17:01:32.924810Z",
     "start_time": "2020-10-22T17:01:32.899587Z"
    }
   },
   "outputs": [],
   "source": [
    "speed = pd.read_csv('week17.csv')"
   ]
  },
  {
   "cell_type": "code",
   "execution_count": 6,
   "metadata": {
    "ExecuteTime": {
     "end_time": "2020-10-22T15:44:38.924814Z",
     "start_time": "2020-10-22T15:44:37.223976Z"
    }
   },
   "outputs": [],
   "source": [
    "'''# Creating a unique key for every play in every game.\n",
    "tracking['gameId'] = tracking['gameId'].astype('str')\n",
    "tracking['playId'] = tracking['playId'].astype('str')\n",
    "tracking['unique_playId'] = tracking.gameId+''+tracking.playId'''"
   ]
  },
  {
   "cell_type": "code",
   "execution_count": 7,
   "metadata": {
    "ExecuteTime": {
     "end_time": "2020-10-22T15:44:45.332183Z",
     "start_time": "2020-10-22T15:44:44.940521Z"
    }
   },
   "outputs": [],
   "source": [
    "'''# Creating a table of QB names and their uniuqe_playId.\n",
    "qb = tracking[tracking.position == 'QB'][['unique_playId', 'displayName', 'frameId']]'''"
   ]
  },
  {
   "cell_type": "code",
   "execution_count": 8,
   "metadata": {
    "ExecuteTime": {
     "end_time": "2020-10-22T15:44:48.380181Z",
     "start_time": "2020-10-22T15:44:48.316901Z"
    }
   },
   "outputs": [],
   "source": [
    "'''# Creating a table of football tracking metrics.\n",
    "football = tracking[tracking.displayName == 'Football']'''"
   ]
  },
  {
   "cell_type": "code",
   "execution_count": 9,
   "metadata": {
    "ExecuteTime": {
     "end_time": "2020-10-22T15:44:51.749994Z",
     "start_time": "2020-10-22T15:44:51.663203Z"
    }
   },
   "outputs": [],
   "source": [
    "'''# Merging the two tables so I can analyze the football tracking associated with each QB.\n",
    "fb_speed = pd.merge(qb, football, on=['unique_playId', 'frameId'])'''"
   ]
  },
  {
   "cell_type": "code",
   "execution_count": 10,
   "metadata": {
    "ExecuteTime": {
     "end_time": "2020-10-22T15:44:57.790149Z",
     "start_time": "2020-10-22T15:44:57.725585Z"
    }
   },
   "outputs": [],
   "source": [
    "'''speed = fb_speed.groupby(['displayName_x', 'frameId']).agg({\n",
    "    's': 'max',\n",
    "    'a': 'max'\n",
    "}\n",
    ").reset_index()'''"
   ]
  },
  {
   "cell_type": "code",
   "execution_count": 11,
   "metadata": {
    "ExecuteTime": {
     "end_time": "2020-10-22T15:44:59.614857Z",
     "start_time": "2020-10-22T15:44:59.610448Z"
    }
   },
   "outputs": [],
   "source": [
    "'''speed.rename(columns={'displayName_x': 'QB', 'frameId': 'frame_id',\n",
    "                      's': 'speed', 'a': 'acceleration'}, inplace=True)'''"
   ]
  },
  {
   "cell_type": "code",
   "execution_count": 18,
   "metadata": {
    "ExecuteTime": {
     "end_time": "2020-10-22T17:01:42.530712Z",
     "start_time": "2020-10-22T17:01:42.523272Z"
    }
   },
   "outputs": [],
   "source": [
    "josh_allen = speed[speed.QB == 'Josh Allen']"
   ]
  },
  {
   "cell_type": "code",
   "execution_count": 19,
   "metadata": {
    "ExecuteTime": {
     "end_time": "2020-10-22T17:01:44.577357Z",
     "start_time": "2020-10-22T17:01:43.423929Z"
    }
   },
   "outputs": [],
   "source": [
    "josh_allen_plot = px.line(josh_allen, x='frame_id', y='speed',\n",
    "        title='Speed of the Football on Josh Allen Passing Plays - Week 17, 2018')"
   ]
  },
  {
   "cell_type": "code",
   "execution_count": 20,
   "metadata": {
    "ExecuteTime": {
     "end_time": "2020-10-22T17:01:46.914089Z",
     "start_time": "2020-10-22T17:01:46.371088Z"
    }
   },
   "outputs": [],
   "source": [
    "image = Image.open('al-soot-c3SY0VqneSg-unsplash.jpg')\n",
    "st.image(image, use_column_width=True)\n",
    "st.title('QB Throwing Power - Week 17, 2018')\n",
    "st.write(josh_allen_plot)"
   ]
  },
  {
   "cell_type": "code",
   "execution_count": null,
   "metadata": {
    "ExecuteTime": {
     "end_time": "2020-10-21T18:11:16.844103Z",
     "start_time": "2020-10-21T18:11:16.770234Z"
    }
   },
   "outputs": [],
   "source": [
    "tracking[tracking.displayName == 'Josh Allen'].unique_playId.nunique()"
   ]
  },
  {
   "cell_type": "code",
   "execution_count": null,
   "metadata": {
    "ExecuteTime": {
     "end_time": "2020-10-21T20:40:20.192259Z",
     "start_time": "2020-10-21T20:40:19.654055Z"
    }
   },
   "outputs": [],
   "source": [
    "matthew_stafford = speed[speed.QB == 'Matthew Stafford']\n",
    "matthew_stafford_plot = px.line(matthew_stafford, x='frame_id', y='speed',\n",
    "        title='Speed of the Football on Matthew Stafford Passing Plays - Week 17, 2018')"
   ]
  },
  {
   "cell_type": "code",
   "execution_count": null,
   "metadata": {
    "ExecuteTime": {
     "end_time": "2020-10-21T20:40:20.626488Z",
     "start_time": "2020-10-21T20:40:20.597504Z"
    }
   },
   "outputs": [],
   "source": [
    "matthew_stafford_plot"
   ]
  },
  {
   "cell_type": "code",
   "execution_count": null,
   "metadata": {},
   "outputs": [],
   "source": []
  }
 ],
 "metadata": {
  "hide_input": false,
  "kernelspec": {
   "display_name": "learn-env",
   "language": "python",
   "name": "learn-env"
  },
  "language_info": {
   "codemirror_mode": {
    "name": "ipython",
    "version": 3
   },
   "file_extension": ".py",
   "mimetype": "text/x-python",
   "name": "python",
   "nbconvert_exporter": "python",
   "pygments_lexer": "ipython3",
   "version": "3.6.9"
  }
 },
 "nbformat": 4,
 "nbformat_minor": 4
}
